{
 "cells": [
  {
   "cell_type": "markdown",
   "metadata": {},
   "source": [
    "# Distributed Tracing\n",
    "\n",
    "Now that we've got the basics for how traces work, it's time to use a real world server. In our case, we'll use `docker-compose` to load up a running instance, and manipulate things from there.\n",
    "\n",
    "Before we get started, be sure to check out the repo that goes along with this. It'll have everything you need."
   ]
  },
  {
   "cell_type": "code",
   "execution_count": null,
   "metadata": {},
   "outputs": [],
   "source": [
    "# comment the clone line if you've already cloned your apm workshop repo\n",
    "!git clone https://github.com/burningion/dash-apm-workshop\n",
    "%cd dash-apm-workshop"
   ]
  },
  {
   "cell_type": "markdown",
   "metadata": {},
   "source": [
    "## Becoming Acquainted with the Example Project\n",
    "\n",
    "Before we instrument our example project, let's become familiar with its architecture.\n",
    "\n"
   ]
  },
  {
   "cell_type": "code",
   "execution_count": null,
   "metadata": {},
   "outputs": [],
   "source": [
    "!DD_API_KEY=<YOUR_API_KEY> STEP=1 docker-compose up"
   ]
  },
  {
   "cell_type": "markdown",
   "metadata": {},
   "source": [
    "Running docker-compose up spins up all the containers for our infrastructure. \n",
    "\n",
    "In this case, we're using docker-compose to spin up two microservices. For now, we've got an API that sits in front of our microservice, and of course, a microservice. \n",
    "\n",
    "The first example is already set up with a basic tracer initialized, so by putting in our key, we can already see traces being sent.\n",
    "\n",
    "Let's try our first `curl` request to the API, and see if we can trace our request across both services:"
   ]
  },
  {
   "cell_type": "code",
   "execution_count": 18,
   "metadata": {},
   "outputs": [
    {
     "name": "stdout",
     "output_type": "stream",
     "text": [
      "One is left with the horrible feeling now that war settles nothing; that to win a war is as disastrous as to lose one.Agatha Christie"
     ]
    }
   ],
   "source": [
    "!curl http://localhost:5000/think/?subject=war"
   ]
  },
  {
   "cell_type": "code",
   "execution_count": 19,
   "metadata": {},
   "outputs": [
    {
     "name": "stdout",
     "output_type": "stream",
     "text": [
      "Ah, music. A magic beyond all we do here!J. K. Rowling"
     ]
    }
   ],
   "source": [
    "!curl http://localhost:5000/think/?subject=music"
   ]
  },
  {
   "cell_type": "code",
   "execution_count": 20,
   "metadata": {},
   "outputs": [
    {
     "name": "stdout",
     "output_type": "stream",
     "text": [
      "I think that God in creating Man somewhat overestimated his ability.Oscar Wilde"
     ]
    }
   ],
   "source": [
    "!curl http://localhost:5000/think/?subject=mankind"
   ]
  },
  {
   "cell_type": "code",
   "execution_count": null,
   "metadata": {},
   "outputs": [],
   "source": []
  }
 ],
 "metadata": {
  "kernelspec": {
   "display_name": "Python 3",
   "language": "python",
   "name": "python3"
  },
  "language_info": {
   "codemirror_mode": {
    "name": "ipython",
    "version": 3
   },
   "file_extension": ".py",
   "mimetype": "text/x-python",
   "name": "python",
   "nbconvert_exporter": "python",
   "pygments_lexer": "ipython3",
   "version": "3.6.5"
  }
 },
 "nbformat": 4,
 "nbformat_minor": 2
}
